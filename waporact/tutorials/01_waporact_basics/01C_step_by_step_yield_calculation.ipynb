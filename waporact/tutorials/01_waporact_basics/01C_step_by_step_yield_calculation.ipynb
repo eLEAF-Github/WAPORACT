{
 "cells": [
  {
   "cell_type": "markdown",
   "source": [
    "## Step by step yield calculation from WAPOR data\r\n",
    "\r\n",
    "#### Introduction\r\n",
    "\r\n",
    "The waporact package includes a set of statistical functions and visualisation (tools) that can be used to carry out the analysis of any raster or rasters that the user provides. \r\n",
    "\r\n",
    "In this example we will build on the tutorial:\r\n",
    "\r\n",
    "*waporact\\tutorials\\01_waporact_basics\\01B_basic_statistical_analysis.ipynb*\r\n",
    "\r\n",
    "In this tutorial we will show you how you can take the basic/generic functions\r\n",
    "available in: \r\n",
    "\r\n",
    "*waporact\\scripts\\tools\\statistics.py* <br>\r\n",
    "*waporact\\scripts\\tools\\raster.py* <br>\r\n",
    "*waporact\\scripts\\tools\\vector.py* <br>\r\n",
    "\r\n",
    "and use them to carry out a yield calculation and finally how to combine the steps taken into a single function for production use.\r\n",
    "\r\n",
    "For details on the theory behind the yield and water productivity calculations being carried out see the wiki:\r\n",
    "\r\n",
    "*https://github.com/eLEAF-Github/WAPORACT/wiki/3.-Theory-2.-Performance-Assessment-Indicators*\r\n",
    "\r\n",
    "specifically sections:\r\n",
    "\r\n",
    "5. Land Productivity (Yeild)\r\n",
    "6. Crop Water Productivity<br><br>\r\n",
    "\r\n",
    "NOTE: The retrieval steps carried out in this notebook are a copy of those carried out in the notebook: *waporact\\tutorials\\01_Basics\\01A_downloads\\01A_downloading_from_wapor.ipynb*\r\n",
    "\r\n",
    "### **Steps**:<br>\r\n",
    "\r\n",
    "1. Importing of the modules and functions needed<br><br> \r\n",
    "\r\n",
    "2. Retrieve NPP and AETI rasters for a given period\r\n",
    "\r\n",
    "    2.1) retrieve NPP and AETI rasters. <br>\r\n",
    "\r\n",
    "    2.2) check out the file paths in the retrieval dictionary. <br><br> \r\n",
    "    \r\n",
    "3. sum the NPP and AETI rasters each across time\r\n",
    "\r\n",
    "    3.1) extract an array from one of the rasters as an example with the function *raster_to_array*. <br>\r\n",
    "    \r\n",
    "    3.2) sum the AETI and NPP rasters. <br><br> \r\n",
    "\r\n",
    "4. Calculate Yield and Water Productivity from the summed rasters.  <br><br> \r\n",
    "\r\n",
    "    4.1) set required user parameters. <br>\r\n",
    "    \r\n",
    "    4.2) calculate yield. <br>\r\n",
    "\r\n",
    "    4.3) calculate Water Productivity. <br><br>\r\n",
    "\r\n",
    "5. Turn the process into a single function  <br><br>\r\n",
    "\r\n",
    "    5.1) construct the water productivity function. <br>\r\n",
    "    \r\n",
    "    5.2) run the water productivity function. <br><br> \r\n",
    "\r\n",
    "NOTE: If this is your first time running this please read the instructions below and follow the steps, otherwise feel free to use the notebook as you wish.\r\n",
    "***"
   ],
   "metadata": {}
  },
  {
   "cell_type": "code",
   "execution_count": null,
   "source": [
    "# import the required functions/classes\r\n",
    "import os\r\n",
    "from datetime import datetime\r\n",
    "\r\n",
    "# import retrieval class\r\n",
    "from waporact.scripts.retrieval.wapor_retrieval import WaporRetrieval\r\n",
    "print('retrieval class succesfully imported')\r\n",
    "\r\n",
    "# import statistics functions\r\n",
    "from waporact.scripts.tools import raster\r\n",
    "print('raster functions succesfully imported')\r\n",
    "# import statistics functions\r\n",
    "from waporact.scripts.tools import statistics\r\n",
    "print('statistics functions succesfully imported')\r\n",
    "\r\n",
    "print('all scripts imported successfully, you are at the starting line')"
   ],
   "outputs": [],
   "metadata": {}
  },
  {
   "cell_type": "markdown",
   "source": [
    "***\r\n",
    "## 2. Retrieve NPP and AETI rasters for a given period"
   ],
   "metadata": {}
  },
  {
   "cell_type": "markdown",
   "source": [
    "***\r\n",
    "### 2.1 Retrieve WAPOR NPP and AETI rasters\r\n",
    "\r\n",
    "Retrieve the NPP (Net Primary Porductivity) and AETI (Evapotranspiration) rasters from wapor for your given area. The steps taken below are the same as those described in the tutorial notebook:\r\n",
    "\r\n",
    " *waporact\\tutorials\\01_Basics\\01A_downloads\\01A_downloading_from_wapor.ipynb* <br>\r\n",
    "\r\n",
    " the only difference is that the datacomponents argument has changed to: **NPP,AETI**\r\n",
    "\r\n",
    " we also set the period_start and period_end to **2020/1/1 -> 2020/2/1** to make sure of data availability\r\n",
    "\r\n",
    "\r\n",
    " The first step of this is initiating the class **WaporRetrieval** and assigning it to an object "
   ],
   "metadata": {}
  },
  {
   "cell_type": "code",
   "execution_count": null,
   "source": [
    "# activation of the wapor retrieval class \r\n",
    "retrieval = WaporRetrieval(            \r\n",
    "    waporact_directory=r'<insert_directory_path_here>',\r\n",
    "    shapefile_path=r\"<insert_git_directory_path_here>\\waporact\\samples\\shapefile\\gezira_test_set.shp\",\r\n",
    "    wapor_level=3,\r\n",
    "    project_name='calc_yield',\r\n",
    "    api_token='<insert_api_toke_here>')"
   ],
   "outputs": [],
   "metadata": {}
  },
  {
   "cell_type": "markdown",
   "source": [
    "After this you can retrieve the rasters themselves by providing the correct arguments:"
   ],
   "metadata": {}
  },
  {
   "cell_type": "code",
   "execution_count": null,
   "source": [
    "# retrieve the actual rasters\r\n",
    "retrieved_rasters = retrieval.download_wapor_rasters(                       \r\n",
    "    datacomponents=['NPP','AETI'],                                          \r\n",
    "    period_start=datetime(2020,1,1),                                         \r\n",
    "    period_end=datetime(2020,2,1),                                          \r\n",
    ")"
   ],
   "outputs": [],
   "metadata": {}
  },
  {
   "cell_type": "markdown",
   "source": [
    "***\r\n",
    "### 2.2 check out the file paths in the retrieval dictionary\r\n",
    "\r\n",
    "It is important to note that when rasters are retrieved using **WaporRetrieval** (assigned to the object *retrieval* above) they are automatically assigned to a dictionary structure as the function used *download_wapor_rasters* can be used to download multiple rasters and build vrts so to store them a system is needed this is done by returning a dictionary:\r\n",
    "\r\n",
    "\r\n",
    "for detials on the structure see the function info for *download_wapor_rasters* in either:\r\n",
    "\r\n",
    "waporact\\scripts\\retrieval\\wapor_retrieval.py\r\n",
    "\r\n",
    "or online at:\r\n",
    "\r\n",
    "https://github.com/eLEAF-Github/WAPORACT/wiki/2.-The-WaPORAct-Package-3.-Function-and-Class-Descriptions-1.-retrieval\r\n",
    "\r\n",
    "below follows an example on how to access the dictionary produced that contains the file paths:"
   ],
   "metadata": {}
  },
  {
   "cell_type": "code",
   "execution_count": null,
   "source": [
    "# print the retrieved_rasters object\r\n",
    "print('retrieved_rasters dict::\\n {} \\n'.format(retrieved_rasters))\r\n",
    "\r\n",
    "# print the list of retrieved rasters for NPP\r\n",
    "print('retrieved NPP rasters:\\n {} \\n'.format(retrieved_rasters['NPP']['raster_list']))\r\n",
    "\r\n",
    "# print the path to the NPP vrt\r\n",
    "print('path to the retrieved NPP vrt:\\n {}'.format(retrieved_rasters['NPP']['vrt_path']))\r\n",
    "\r\n",
    "# print the list of retrieved rasters for AETI\r\n",
    "print('retrieved AETI rasters:\\n {} \\n'.format(retrieved_rasters['AETI']['raster_list']))\r\n",
    "\r\n",
    "# print the path to the AETI vrt\r\n",
    "print('path to the retrieved AETI vrt:\\n {}'.format(retrieved_rasters['AETI']['vrt_path']))"
   ],
   "outputs": [],
   "metadata": {}
  },
  {
   "cell_type": "markdown",
   "source": [
    "***\r\n",
    "## 3. Sum the NPP and AETI rasters each across time \r\n",
    "\r\n",
    "This step is being carried out as the seasonal sum of NPP and AETI is required to calculate Yield and Water Productivity"
   ],
   "metadata": {}
  },
  {
   "cell_type": "markdown",
   "source": [
    "***\r\n",
    "### 3.1 extract an array from one of the rasters as an example with the function *raster_to_array*.\r\n",
    "\r\n",
    "As an example before calculating the sum of NPP and AETI across time we wnat to show you how to extract an array from a raster for calculations using the function *raster_to_array*. \r\n",
    "\r\n",
    "This is to show you A) one of the basic functions on which this whole package is built and B) what is available in this package if you know where to look/ do a little searching. "
   ],
   "metadata": {}
  },
  {
   "cell_type": "markdown",
   "source": [
    "We call the function *raster_to_array* from the previously imported raster script.\r\n",
    "\r\n",
    "earlier cell:\r\n",
    "\r\n",
    "*from waporact.scripts.tools import raster*\r\n",
    "\r\n",
    "So all raster functions are now available for use after this import simply by adding '.' and then the name of the function you want to use.\r\n",
    "\r\n",
    "Below we extract the array of one of the retrieved rasters and print it as an example. For most raster calculations the first ste is getting access to the array inside"
   ],
   "metadata": {}
  },
  {
   "cell_type": "code",
   "execution_count": null,
   "source": [
    "# extract the array\r\n",
    "npp_array= raster.raster_to_array(input_raster_path=retrieved_rasters['NPP']['raster_list'][0])\r\n",
    "\r\n",
    "#print the array\r\n",
    "print(npp_array)"
   ],
   "outputs": [],
   "metadata": {
    "collapsed": true
   }
  },
  {
   "cell_type": "markdown",
   "source": [
    "The other half of this process is writing an array to raster and this is achieved in WaPORAct usign the function: *array_to_raster*"
   ],
   "metadata": {}
  },
  {
   "cell_type": "markdown",
   "source": [
    "***\r\n",
    "### 3.2 sum the AETI and NPP rasters\r\n",
    "\r\n",
    "Now that we have seen how to extract a raster we are going to use a more complex function that is built around *raster_to_array* and *array_to_raster* and other subfunctions to calculate the sum of AETI and NPP. This is done using the function\r\n",
    "\r\n",
    "*calc_multiple_array_numpy_statistic*\r\n",
    "\r\n",
    "from the statistics script\r\n",
    "\r\n",
    "for details on this function please see the script:*waporact\\scripts\\tools\\statistics.py* or the wiki page: *https://github.com/eLEAF-Github/WAPORACT/wiki/2.-The-WaPORAct-Package-3.-Function-and-Class-Descriptions-6.-statistics*\r\n",
    "\r\n",
    "this function is used to calculate/apply a numpy statistical function across multiple input rasters given as either a list or a vrt."
   ],
   "metadata": {}
  },
  {
   "cell_type": "code",
   "execution_count": null,
   "source": [
    "# import the numpy package so that the numpy function can be applied\r\n",
    "import numpy as np"
   ],
   "outputs": [],
   "metadata": {}
  },
  {
   "cell_type": "code",
   "execution_count": null,
   "source": [
    "# set the output name and path of the output AETI sum raster\r\n",
    "aeti_sum_raster = r'<insert_chosen_directory_path_here>\\\\L3_AETI_sum.tif'\r\n",
    "\r\n",
    "# calculate the sum of seasonal AETI raster\r\n",
    "aeti_sum_raster = statistics.calc_multiple_array_numpy_statistic(\r\n",
    "    input=retrieved_rasters['AETI']['raster_list'], #provide the list of input rasters\r\n",
    "    numpy_function=np.nansum, # apply the numpy function\r\n",
    "    axis=0, # set the axis on which to apply the function 0=z (see script function for details)\r\n",
    "    output_raster_path=aeti_sum_raster) # set an output path for the created sum raster"
   ],
   "outputs": [],
   "metadata": {
    "collapsed": true
   }
  },
  {
   "cell_type": "code",
   "execution_count": null,
   "source": [
    "\r\n",
    "# set the output name and path of the output NPP sum raster\r\n",
    "npp_sum_raster = r'<insert_chosen_directory_path_here>\\\\L3_NPP_sum.tif'\r\n",
    "\r\n",
    "# calculate the sum of seasonal NPP raster\r\n",
    "npp_sum_raster = statistics.calc_multiple_array_numpy_statistic(\r\n",
    "    input=retrieved_rasters['NPP']['raster_list'], #provide the list of input rasters\r\n",
    "    numpy_function=np.nansum, # apply the numpy function\r\n",
    "    axis=0, # set the axis on which to apply the function 0=z (see script function for details)\r\n",
    "    output_raster_path=npp_sum_raster) # set an output path for the created sum raster"
   ],
   "outputs": [],
   "metadata": {}
  },
  {
   "cell_type": "markdown",
   "source": [
    "***\r\n",
    "## 4. Calculate Yield and Water Productivity from the summed rasters\r\n",
    "\r\n",
    "with access to the sum of AETI and NPP rasters yield and WP (Water Productivity) can be calculated"
   ],
   "metadata": {}
  },
  {
   "cell_type": "markdown",
   "source": [
    "***\r\n",
    "### 4.1 set required user parameters\r\n",
    "\r\n",
    "to calculate yield and WP certain user defined parameters need to be set. \r\n",
    "\r\n",
    "For details on what the below parameters mean please again see:\r\n",
    "\r\n",
    "*https://github.com/eLEAF-Github/WAPORACT/wiki/3.-Theory-2.-Performance-Assessment-Indicators*\r\n",
    "\r\n",
    "specifically sections:\r\n",
    "\r\n",
    "5. Land Productivity (Yeild)\r\n",
    "6. Crop Water Productivity<br><br>"
   ],
   "metadata": {}
  },
  {
   "cell_type": "code",
   "execution_count": null,
   "source": [
    "# set the crop parameters \r\n",
    "AOT = 0.8\r\n",
    "HI = 0.20\r\n",
    "mc = 0.15\r\n",
    "C4 = 1"
   ],
   "outputs": [],
   "metadata": {}
  },
  {
   "cell_type": "markdown",
   "source": [
    "***\r\n",
    "### 4.2 calculate yield\r\n",
    "\r\n",
    "to calculate yield we extract the array from the sum_npp raster calculated above\r\n",
    "apply the required formula and write the resulting array to raster again."
   ],
   "metadata": {}
  },
  {
   "cell_type": "code",
   "execution_count": null,
   "source": [
    "# yield calculation \r\n",
    "\r\n",
    "# extract the npp array\r\n",
    "npp_sum_array = raster.raster_to_array(input_raster_path=npp_sum_raster)\r\n",
    "\r\n",
    "# calculate the yield array\r\n",
    "yield_array = ((npp_sum_array*22.222*10*HI*C4)/(1-mc))*0.1\r\n",
    "\r\n",
    "# set the output name and path of the output yield raster\r\n",
    "yield_raster = r'<insert_chosen_directory_path_here>\\\\L3_Yield.tif'\r\n",
    "\r\n",
    "# output the yield array to raster\r\n",
    "yield_raster = raster.array_to_raster(\r\n",
    "    metadata=npp_sum_raster, # the metadata argument allows you to use the metadata of an existing raster as metadata for the new one\r\n",
    "    output_raster_path=yield_raster, \r\n",
    "    input_array=yield_array)\r\n"
   ],
   "outputs": [],
   "metadata": {
    "collapsed": true
   }
  },
  {
   "cell_type": "markdown",
   "source": [
    "***\r\n",
    "### 4.3 calculate Water Productivity"
   ],
   "metadata": {}
  },
  {
   "cell_type": "code",
   "execution_count": null,
   "source": [
    "# wp calculation \r\n",
    "\r\n",
    "# extract the aeti array\r\n",
    "aeti_sum_array = raster.raster_to_array(input_raster_path=aeti_sum_raster)\r\n",
    "\r\n",
    "# extract the yield array\r\n",
    "yield_array = raster.raster_to_array(input_raster_path=yield_raster)\r\n",
    "\r\n",
    "# calculate the wp array\r\n",
    "wp_array = yield_array / aeti_sum_array\r\n",
    "\r\n",
    "# set the output name and path of the output wp raster\r\n",
    "wp_raster = r'<insert_chosen_directory_path_here>\\\\L3_wp.tif'\r\n",
    "\r\n",
    "# output the yield array to raster\r\n",
    "wp_raster = raster.array_to_raster(\r\n",
    "    metadata=aeti_sum_raster, # the metadata argument allows you to use the metadata of an existing raster as metadata for the new one\r\n",
    "    output_raster_path=wp_raster, \r\n",
    "    input_array=wp_array)\r\n"
   ],
   "outputs": [],
   "metadata": {}
  },
  {
   "cell_type": "markdown",
   "source": [
    "***\r\n",
    "## 5. Turn the process into a single function \r\n",
    "\r\n",
    "as a last step we provide an example of how to turn all the above steps into a single function. I this way ti becomes more easily reproducible and stable. Please take a look below if you wish"
   ],
   "metadata": {}
  },
  {
   "cell_type": "markdown",
   "source": [
    "***\r\n",
    "### 5.1 construct the water productivity function"
   ],
   "metadata": {}
  },
  {
   "cell_type": "code",
   "execution_count": null,
   "source": [
    "# water productivity function\r\n",
    "\r\n",
    "# import the required functions/classes\r\n",
    "import os\r\n",
    "from datetime import datetime\r\n",
    "import numpy as np\r\n",
    "from waporact.scripts.retrieval.wapor_retrieval import WaporRetrieval\r\n",
    "from waporact.scripts.tools import raster\r\n",
    "from waporact.scripts.tools import statistics\r\n",
    "\r\n",
    "# define the function\r\n",
    "def calc_water_productivity(\r\n",
    "    waporact_directory: str,\r\n",
    "    shapefile_path: str,\r\n",
    "    wapor_level: int,\r\n",
    "    project_name: str,\r\n",
    "    api_token: str,\r\n",
    "    start_of_season: datetime,\r\n",
    "    end_of_season: datetime,\r\n",
    "    HI: float,\r\n",
    "    mc: float,\r\n",
    "    C4: float,\r\n",
    "    ): # all arguments used above that cannot be automated becoem arguments in the function\r\n",
    "    \"\"\"\r\n",
    "    Description:\r\n",
    "        function to calculate yield and water productivity for a given area \r\n",
    "        and season using wapor data\r\n",
    "\r\n",
    "        NOTE:  to keep the function simple we limited the \r\n",
    "        automation of the filenames if this was part of a WaPORAct pipeline \r\n",
    "        we would set the filenames using  the functions in \r\n",
    "        waporact\\scripts\\structure\\wapor_structure.py \r\n",
    "        specifcially generate_output_file_path. Feel free to check it out.\r\n",
    "\r\n",
    "    Args:\r\n",
    "\r\n",
    "    Return:\r\n",
    "        list: list of the path to two rasters yield and water productivity\r\n",
    "    \"\"\"\r\n",
    "    # set the base file path using waporact_directory\r\n",
    "\r\n",
    "    output_dir = os.path.join(waporact_directory,project_name,'wp_calc')\r\n",
    "    if not os.path.exists(output_dir):\r\n",
    "        os.makedirs(output_dir)\r\n",
    "    \r\n",
    "    # set output file paths:\r\n",
    "    aeti_sum_raster = os.path.join(output_dir,'AETI_sum.tif')\r\n",
    "    npp_sum_raster = os.path.join(output_dir,'NPP_sum.tif')\r\n",
    "    yield_raster = os.path.join(output_dir,'Yield.tif.tif')\r\n",
    "    water_productivity_raster = os.path.join(output_dir,'water_productivity.tif.tif')\r\n",
    "\r\n",
    "    # activation of the wapor retrieval class \r\n",
    "    retrieval = WaporRetrieval(            \r\n",
    "        waporact_directory=waporact_directory,\r\n",
    "        shapefile_path=shapefile_path,\r\n",
    "        wapor_level=wapor_level,\r\n",
    "        project_name=project_name,\r\n",
    "        api_token=api_token)\r\n",
    "\r\n",
    "    # retrieve the npp and aeti rasters\r\n",
    "    retrieved_rasters = retrieval.download_wapor_rasters(                       \r\n",
    "        datacomponents=['NPP','AETI'],                                          \r\n",
    "        period_start=start_of_season,                                         \r\n",
    "        period_end=end_of_season,                                          \r\n",
    "        )\r\n",
    "\r\n",
    "    # calculate the sum of seasonal AETI raster\r\n",
    "    aeti_sum_raster = statistics.calc_multiple_array_numpy_statistic(\r\n",
    "        input=retrieved_rasters['AETI']['raster_list'],\r\n",
    "        numpy_function=np.nansum,\r\n",
    "        axis=0, \r\n",
    "        output_raster_path=aeti_sum_raster)\r\n",
    "\r\n",
    "    # calculate the sum of seasonal NPP raster\r\n",
    "    npp_sum_raster = statistics.calc_multiple_array_numpy_statistic(\r\n",
    "        input=retrieved_rasters['NPP']['raster_list'], \r\n",
    "        numpy_function=np.nansum,\r\n",
    "        axis=0, \r\n",
    "        output_raster_path=npp_sum_raster) \r\n",
    "\r\n",
    "    # extract the npp array\r\n",
    "    npp_sum_array = raster.raster_to_array(input_raster_path=npp_sum_raster)\r\n",
    "\r\n",
    "    # calculate the yield array\r\n",
    "    yield_array = ((npp_sum_array*22.222*10*HI*C4)/(1-mc))*0.1 \r\n",
    "\r\n",
    "    # calculate the wp array\r\n",
    "    wp_array = yield_array / aeti_sum_array\r\n",
    "\r\n",
    "    # NOTE: Since we already had the yield array we do not need to extract as we did above,\r\n",
    "    # this whole function could also be written without writing any intermediates to file\r\n",
    "\r\n",
    "    # output the yield array to raster\r\n",
    "    yield_raster = raster.array_to_raster(\r\n",
    "        metadata=npp_sum_raster, \r\n",
    "        output_raster_path=yield_raster, \r\n",
    "        input_array=yield_array)\r\n",
    "\r\n",
    "    # output the yield array to raster\r\n",
    "    water_productivity_raster = raster.array_to_raster(\r\n",
    "        metadata=aeti_sum_raster, # the metadata argument allows you to use the metadata of an existing raster as metadata for the new one\r\n",
    "        output_raster_path=water_productivity_raster, \r\n",
    "        input_array=wp_array)\r\n",
    "\r\n",
    "    return [yield_raster, water_productivity_raster]\r\n"
   ],
   "outputs": [],
   "metadata": {}
  },
  {
   "cell_type": "markdown",
   "source": [
    "***\r\n",
    "### 5.2 run the water productivity function"
   ],
   "metadata": {}
  },
  {
   "cell_type": "code",
   "execution_count": null,
   "source": [
    "# run the water productivity function made\r\n",
    "wp_rasters = calc_water_productivity(\r\n",
    "    waporact_directory=r'<insert_directory_path_here>',\r\n",
    "    shapefile_path=r\"<insert_git_directory_path_here>\\waporact\\samples\\shapefile\\gezira_test_set.shp\",\r\n",
    "    wapor_level=3,\r\n",
    "    project_name='calc_yield',\r\n",
    "    api_token='<insert_api_toke_here>',\r\n",
    "    start_of_season=datetime(2020,1,1),\r\n",
    "    end_of_season=datetime(2020,2,1),\r\n",
    "    HI=0.20, # choose your own value if you want\r\n",
    "    mc=0.15, # choose your own value if you want\r\n",
    "    C4=1, # choose your own value if you want\r\n",
    "    )\r\n",
    "\r\n",
    "# print outputted rasters\r\n",
    "print('produced_rasters:')\r\n",
    "print(wp_rasters)"
   ],
   "outputs": [],
   "metadata": {}
  },
  {
   "cell_type": "markdown",
   "source": [
    "***\r\n",
    "## The next step: Performance Assessment Indicators (PAIs)\r\n",
    "\r\n",
    "f you feel like it you can also take a look at notebook *02A_waporact_calculating_PAIs.ipynb* where we walk you through the process of producing more diffcult statistics: *Performance Assessment Indicators (PAIs)* for an area from download to analysis."
   ],
   "metadata": {}
  }
 ],
 "metadata": {
  "kernelspec": {
   "name": "python3",
   "display_name": "Python 3.7.11 64-bit ('waporact': conda)"
  },
  "language_info": {
   "codemirror_mode": {
    "name": "ipython",
    "version": 3
   },
   "file_extension": ".py",
   "mimetype": "text/x-python",
   "name": "python",
   "nbconvert_exporter": "python",
   "pygments_lexer": "ipython3",
   "version": "3.7.11"
  },
  "interpreter": {
   "hash": "d159fc90758eac0f5c73d99caedb3f91684c9817826a725cd80fdc2fd6e95e43"
  }
 },
 "nbformat": 4,
 "nbformat_minor": 5
}