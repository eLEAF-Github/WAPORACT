{
 "cells": [
  {
   "cell_type": "markdown",
   "source": [
    "## Basic statistics and WAPOR data\n",
    "\n",
    "#### Introduction\n",
    "\n",
    "The waporact package includes a set of statistical functions and visualisation (tools) that can be used to carry out the analysis of any raster or rasters that the user provides. These functions can be found in the scripts: <br><br>\n",
    "\n",
    "*waporact\\scripts\\tools\\statistics.py* <br>\n",
    "*waporact\\scripts\\tools\\plots.py* <br><br>\n",
    "\n",
    "- NOTE: These functions can be used on on any file of the correct type however it is easier to use them on files retrieved using the **WaporRetrieval** class. <br><br>\n",
    "\n",
    "In this notebook we will walk you through two simple analyses of wapor data. From retrieving the data to calculating statistics to visualising the results. The retrieval steps are a copy of those carried out in the notebook: *waporact\\tutorials\\01_Basics\\01A_downloads\\01A_downloading_from_wapor.ipynb*<br><br>\n",
    "\n",
    "### **Steps**:<br>\n",
    "\n",
    "1. Importing of the modules and functions needed<br><br> \n",
    "\n",
    "2. Retrieve and analyse a Landcover Classification raster\n",
    "\n",
    "    2.1) retrieve a landcover classification raster. <br><br> \n",
    "    \n",
    "    2.2) run the function *raster_count_statistics* to analyse the percentage of each land cover found in the raster. <br><br>\n",
    "    \n",
    "    2.3) plot the landcover classification in a piechart. <br><br> \n",
    "\n",
    "3. Retrieve and analyse an evapotranspiration raster from WAPOR running of the function *calc_field_statistics*: calculate per field statistics from a raster or set of rasters using a shapefile to determine the fields/areas.  <br><br> \n",
    "\n",
    "    3.1) retrieve an evapotranspiration raster. <br><br> \n",
    "    \n",
    "    3.2) run the function *calc_field_statistics* to analyse the raster and generate basic field statistics. <br><br>\n",
    "\n",
    "    3.3) plot the max evapotranspiration of all fields in a barchart. <br><br>\n",
    "\n",
    "    3.4) plot the field results in an interactive chloropleth map. <br><br> \n",
    "\n",
    "4. Export the calculated field statistics too a shapefile <br><br> \n",
    "\n",
    "5. Examine the data<br><br> \n",
    "\n",
    "6. Rinse and Repeat<br><br> \n",
    "\n",
    "NOTE: If this is your first time running this please read the instructions below and follow the steps, otherwise feel free to use the notebook as you wish.\n",
    "***"
   ],
   "metadata": {}
  },
  {
   "cell_type": "markdown",
   "source": [
    "NOTE: Reading the following is not required but it is advised\n",
    "if you did not do it previously \n",
    "\n",
    "### A quick guide to the waporact package scripts and the automatic folder structure used in the classes can be found via the links below:\n",
    "\n",
    "- [automated folder structure explained](https://github.com/eLEAF-Github/WAPORACT/wiki/2.-The-WaPORAct-Package-4.-Automated-Folder-Structure-Explained)\n",
    "\n",
    "- [waporact package structure further explained](https://github.com/eLEAF-Github/WAPORACT/wiki/2.-The-WaPORAct-Package-2.-WaPORAct-Toolset)\n",
    "\n",
    "***"
   ],
   "metadata": {}
  },
  {
   "cell_type": "markdown",
   "source": [
    "## 1. Import modules/libraries"
   ],
   "metadata": {}
  },
  {
   "cell_type": "code",
   "execution_count": null,
   "source": [
    "import os\r\n",
    "from datetime import datetime\r\n",
    "\r\n",
    "# import retrieval class\r\n",
    "from waporact.scripts.retrieval.wapor_retrieval import WaporRetrieval\r\n",
    "print('retrieval class succesfully imported')\r\n",
    "\r\n",
    "# import statistics functions\r\n",
    "from waporact.scripts.tools import statistics\r\n",
    "print('statistics functions succesfully imported')\r\n",
    "\r\n",
    "# import vector functions\r\n",
    "from waporact.scripts.tools import vector\r\n",
    "print('vector functions succesfully imported')\r\n",
    "\r\n",
    "# import vector functions\r\n",
    "from waporact.scripts.tools import plots\r\n",
    "print('plotting functions succesfully imported')\r\n",
    "\r\n",
    "print('all scripts imported successfully, you are at the starting line')"
   ],
   "outputs": [],
   "metadata": {}
  },
  {
   "cell_type": "markdown",
   "source": [
    "***\n",
    "## 2. count the raster values in a categorical raster (land cover classification)\n",
    "\n",
    "As a first step carry out a count of the different values that exist in a categorical raster such as a land cover classification. This can be done using the function *raster_count_statistics*. To do this you can either provide your own categorical raster or you can retrieve and use the WAPOR land cover classification raster. <br>\n"
   ],
   "metadata": {}
  },
  {
   "cell_type": "markdown",
   "source": [
    "***\n",
    "### 2.1 Retrieve a WAPOR land cover classification raster\n",
    "\n",
    "Retrieve the lcc raster from wapor for your given area. The steps taken below are the same as those described in the tutorial notebook:\n",
    "\n",
    " *waporact\\tutorials\\01_Basics\\01A_downloads\\01A_downloading_from_wapor.ipynb* <br>\n",
    "\n",
    " the only difference is that the datacomponents argument has changed to: **LCC**\n",
    "\n",
    " we also set the period_start and period_end to **2020/1/1 -> 2020/2/1** to make sure of data availability\n"
   ],
   "metadata": {}
  },
  {
   "cell_type": "code",
   "execution_count": null,
   "source": [
    "# activation of the wapor retrieval class \r\n",
    "retrieval = WaporRetrieval(            \r\n",
    "    waporact_directory=r'<insert_directory_path_here>',\r\n",
    "    shapefile_path=r\"<insert_git_directory_path_here>\\waporact\\samples\\shapefile\\gezira_test_set.shp\",\r\n",
    "    wapor_level=3,\r\n",
    "    period_start=datetime(2020,1,1),\r\n",
    "    period_end=datetime(2020,2,1),\r\n",
    "    project_name='waporact_test',\r\n",
    "    api_token='<insert_api_toke_here>')\r\n"
   ],
   "outputs": [],
   "metadata": {}
  },
  {
   "cell_type": "markdown",
   "source": [
    "### actual download\n",
    "\n",
    "below we download the land cover classification raster. We do this for the period specified on class activation. If you want to chage this add the arguments period_start and period_end below."
   ],
   "metadata": {}
  },
  {
   "cell_type": "code",
   "execution_count": null,
   "source": [
    "# run the code to download rasters from the wapor portal\r\n",
    "retrieved_rasters = retrieval.download_wapor_rasters(\r\n",
    "    datacomponents=['LCC'])\r\n",
    "    \r\n",
    " \r\n",
    "# print the list of retrieved rasters for LCC\r\n",
    "print('retrieved LCC rasters:\\n {} \\n'.format(retrieved_rasters['LCC']['raster_list']))\r\n",
    "\r\n",
    "# print the path to the LCC vrt\r\n",
    "print('path to the retrieved LCC vrt:\\n {}'.format(retrieved_rasters['LCC']['vrt_path']))"
   ],
   "outputs": [],
   "metadata": {}
  },
  {
   "cell_type": "markdown",
   "source": [
    "***\n",
    "### 2.2 Retrieving WAPOR land cover classification categories dict\n",
    "\n",
    "NOTE: this step is only applicable if carrying out *raster_count_statistics* on the land cover classification raster (LCC) retrieved from the WAPOR portal. If analysing your own categorical raster you can skip this step\n",
    "\n",
    "To add categories to the wapor LCC we provide a wapor LCC categories dict this can be retrieved from the script: \n",
    "\n",
    "*waporact\\scripts\\retrieval\\wapor_land_cover_classification_codes.py*\n",
    "using the following function: *wapor_lcc* \n",
    "\n",
    "to use it all you have to do is import the function and when running it provide the wapor level (1,2,3) matching the wapor level you used when retrieving the wapor LCC raster."
   ],
   "metadata": {}
  },
  {
   "cell_type": "code",
   "execution_count": null,
   "source": [
    "# retrieve the wapor LCC categories dict (OPTIONAL)\r\n",
    "\r\n",
    "from waporact.scripts.retrieval.wapor_land_cover_classification_codes import wapor_lcc\r\n",
    "\r\n",
    "categories = wapor_lcc(wapor_level=3)\r\n",
    "\r\n",
    "print('categories retrieved')\r\n",
    "\r\n",
    "# run print(categories) to see the full list"
   ],
   "outputs": [],
   "metadata": {}
  },
  {
   "cell_type": "markdown",
   "source": [
    "***\n",
    "### 2.3 Run *raster_count_statistics* on the retrieved categorical raster\n",
    "\n",
    "Use the function *raster_count_statistics* to count the different unique values found in a raster and calculate the percentage of non nan cells they make up as well as the area each value covers. <br><br>\n",
    "\n",
    "The minimum needed to run the function is a raster, we will be using one of the LCC rasters retrieved in the previous step\n",
    "\n",
    "#### Required Inputs:<br>\n",
    "\n",
    "- **input_raster_path**: path to the input raster holding the values to count<br>\n",
    "\n",
    "The following optional inputs are also available, we will be using the category dict retrieved in the previous step as the *categories_dict* input\n",
    "\n",
    "#### Optional Inputs:<br>\n",
    "\n",
    "- **output_csv**: if the path to an output csv is provided then a csv and excel of the output\n",
    "calculated is made<br><br>\n",
    "\n",
    "- **categories_dict**: if a dict of categories is provided uses the dict to assign names/categories \n",
    "to the values found.<br>\n",
    "\n",
    "    - NOTE: the categories_dict has to be formatted so that the dictionary keys are the categories (names) \n",
    "and the values are the values found in the raster that the categories/names have to match<br><br>\n",
    "\n",
    "#### Outputs: <br>\n",
    "\n",
    "the function returns a tuple of a dataframe/dict and the path to a csv if provided on input. Each contains \n",
    "the same information on the values counted in the raster. \n",
    "\n",
    "For more details see: [statistics wiki](https://github.com/eLEAF-Github/WAPORACT/wiki/2.-The-WaPORAct-Package-3.-Function-and-Class-Descriptions-6.-statistics)"
   ],
   "metadata": {}
  },
  {
   "cell_type": "code",
   "execution_count": null,
   "source": [
    "# create csv output path\r\n",
    "count_csv = r'<insert_directory_path_here>\\\\waporact_test\\\\L3\\\\04_analysis\\\\L3_LCC_20200101_20200111_count_stats.csv'\r\n",
    "\r\n",
    "# count cells in the raster\r\n",
    "statistics.raster_count_statistics(\r\n",
    "    input_raster_path=retrieved_rasters['LCC']['raster_list'][0], # need to specify a single raster\r\n",
    "    output_csv=count_csv,\r\n",
    "    categories_dict=categories \r\n",
    ")\r\n"
   ],
   "outputs": [],
   "metadata": {}
  },
  {
   "cell_type": "markdown",
   "source": [
    "NOTE: remember WaporRetrieval returns a dictionary containing the sorted paths to retrieved files:\n",
    "\n",
    "so first you need to specify the datacomponent: retrieved_rasters['LCC']\n",
    "then either raster_list or vrt_path: retrieved_rasters['LCC']['raster_list']\n",
    "\n",
    "and then if you are grabbing a single raster the index of the raster in the list: retrieved_rasters['LCC']['raster_list'][0] \n"
   ],
   "metadata": {}
  },
  {
   "cell_type": "markdown",
   "source": [
    "***\n",
    "### 2.4 plot the landcover classification the count data in a piechart\n",
    "\n",
    "\n",
    "Use the function *piechart* to plot and visualize the csv outputted above ( using the dataframe is also possible). <br><br>\n",
    "\n",
    "The minimum needed inputs to run the function is an input table provided either as a dataframe or as the path to a csv/excel, the name of the column containing the categories to plot. the name of the column containing the values to plot and the title of the plot.\n",
    "\n",
    "#### Required Inputs:<br>\n",
    "\n",
    "- **input_table**: dataframe or path to the file to create graph from<<br><br> \n",
    "\n",
    "- **names**: column holding the names for the pie slices<br><br>  \n",
    "\n",
    "- **values**: column holding the value for the slices<br><br>\n",
    "\n",
    "- **title**: title of the plot<br>  \n",
    "\n",
    "\n",
    "Optional inputs are also available, we will be providing an output path for the html and png. These are only made if paths are provided. For info on all the optional inputs please see the link below:\n",
    "\n",
    "#### Optional Inputs:<br>\n",
    "\n",
    "- **output_png_path**: if provided outputs the generated file to static png<br><br>\n",
    "\n",
    "- **output_html_path**: if provided outputs the generated file to interactive html<br>\n",
    "\n",
    "\n",
    "#### Outputs: <br>\n",
    "\n",
    "the function returns nothing directly outputting the made plot to the specified locations. However if show figure is true it also shows the plot made on completion.\n",
    "\n",
    "for more details see: [plots wiki](https://github.com/eLEAF-Github/WAPORACT/wiki/2.-The-WaPORAct-Package-3.-Function-and-Class-Descriptions-7.-plots)\n"
   ],
   "metadata": {}
  },
  {
   "cell_type": "code",
   "execution_count": null,
   "source": [
    "# create counts png html output paths\r\n",
    "count_png = '<insert_directory_path_here>\\\\\\\\waporact_test\\\\\\\\L3\\\\\\\\05_results\\\\\\\\L3_LCC_20200101_20200111_count_stats.png'\r\n",
    "count_html = '<insert_directory_path_here>\\\\\\\\waporact_test\\\\\\\\L3\\\\\\\\05_results\\\\\\\\L3_LCC_20200101_20200111_count_stats.html'\r\n",
    "\r\n",
    "# plot count data\r\n",
    "plots.piechart(\r\n",
    "    input_table=count_csv,\r\n",
    "    names='landcover',\r\n",
    "    values='percentage',\r\n",
    "    title='gezira landcover classification crop percentages',\r\n",
    "    output_html_path=count_html,\r\n",
    "    output_png_path=count_png,\r\n",
    "    show_figure=True\r\n",
    "    )"
   ],
   "outputs": [],
   "metadata": {}
  },
  {
   "cell_type": "markdown",
   "source": [
    "***\n",
    "## 3. calculate field based statistics from a raster or a set of rasters\n",
    "\n",
    "in the waporact package we provide a set of statistical tools tha you can use to analyse rasters. One of these is the \n",
    "functio waporact field_statistics*. It allows you to carry out zonal statistics on a single raster or a set of rasters using a shapefile to determine the fields/zones/geometries for which to calculate statistics.<br>"
   ],
   "metadata": {}
  },
  {
   "cell_type": "markdown",
   "source": [
    "***\n",
    "### 3.1 Retrieve evapotranspiration rasters to calculate field based zonal statistics from\n",
    "\n",
    "The class retrieval has already been activated therefore all you need to do is run the code below. For more details see earlier instructions\n",
    "\n",
    "NOTE: again if you want to change the period of retrieval previously set add the arguments period_start and period_end below."
   ],
   "metadata": {}
  },
  {
   "cell_type": "code",
   "execution_count": null,
   "source": [
    "# run the code and download rasters from the wapor portal\r\n",
    "retrieved_AETI_rasters = retrieval.download_wapor_rasters(    \r\n",
    "    datacomponents=['AETI'])\r\n"
   ],
   "outputs": [],
   "metadata": {}
  },
  {
   "cell_type": "markdown",
   "source": [
    "***\n",
    "### 3.2 calculate field based statistics using calc_field_statistics\n",
    "\n",
    "in the waporact package we provide a set of statistical tools that you can use to analyse rasters. One of these is the \n",
    "function *field_statistics*. It allows you to carry out zonal statistics on a single raster or a set of rasters using a shapefile to determine the fields (geometries) to analyse.<br>\n",
    "\n",
    "- NOTE: When running the function for a single raster the name of each column is taken from the statistic being calculated. However in the case of mulitple rasters this is not feasible so the name of each input raster or vrt band in combination with the statistic calculated is taken as the column name.<br>\n",
    "\n",
    "    - WARNING: column names are autogenerated in this function so if running the function for multiple rasters together there can be overlap in the names. This is even worse when exported to shapefile as it only accepts 8 characters per column.<br>\n",
    "\n",
    "to run the function you need to provide the following inputs:<br>\n",
    "\n",
    "**Required Inputs**:<br>\n",
    "\n",
    "- **fields_shapefile_path**: path to the shapefile containing the fields used to designate the zones of analysis. <br><br>\n",
    "\n",
    "    - NOTE: if working with wapor data it is recommended to use the mask shapefile made when running the function *create_raster_mask_from_shapefile* or *create_raster_mask_from_wapor_lcc* from **WaporRetrieval** or **WaporPAI**. However any correctly formatted shapefile is acceptable.<br><br>\n",
    "\n",
    "- **input_rasters**: list of paths to the rasters that are to be analyzed. For one raster just provide a list of one raster<br>\n",
    "\n",
    "    - NOTE: *calc_field_statistics* accepts multiple rasters and/or vrts and will calculate the field statistics for each raster provided, automatically generating names for the columns of output produced to distinguish them. Also works with a single raster provided in list format. <br>\n",
    "\n",
    "**Optional Inputs**:<br>\n",
    "\n",
    "- **output_csv_path**: path to the csv where the calcualted statistics are outputted too if provided<br><br>\n",
    "\n",
    "- **field_stats**: list of field statistics to calculate (checked against a list of accepted keywords), if not provided uses the default set: ['min', 'max', 'mean', 'sum', 'stddev']<br><br>\n",
    "\n",
    " - **statistic_name**: name/ identifier to give to the stat calculated (used in combo with each field stat calculated)<br><br>\n",
    "\n",
    "- **id_key**: identifies the column in the *fields_shapefile_path* used to mark/identify each field in the shapefile. This input is autoset to 'wpid' in the assumption that you are using a mask shapefile produced using *create_raster_mask_from_shapefile* or *create_raster_mask_from_wapor_lcc*. <br>\n",
    "\n",
    "    - WARNING: the id has to be unique per field and has to exist in the shapefile (**IMPORTANT**)<br><br>\n",
    "\n",
    "- **out_dict**: boolean option if set to True outputs the data in a dict instead of a dataframe.<br><br>\n",
    "\n",
    "    - NOTE: only relevant when running for multiple rasters <br>\n",
    "\n",
    "**Output**:\n",
    "\n",
    "the dataframe/dict produced. In code the path to the csv if made is reported\n",
    "\n",
    "For more details see: [statistics wiki](https://github.com/eLEAF-Github/WAPORACT/wiki/2.-The-WaPORAct-Package-3.-Function-and-Class-Descriptions-6.-statistics)"
   ],
   "metadata": {}
  },
  {
   "cell_type": "code",
   "execution_count": null,
   "source": [
    "# assign path to output the count csv too\r\n",
    "field_csv = r'<insert_directory_path_here>\\\\waporact_test\\\\L3\\\\04_analysis\\\\L3_LCC_20200121_20200201_field_stats.csv'\r\n",
    "\r\n",
    "field_stats = statistics.calc_field_statistics(\r\n",
    "    fields_shapefile_path=r\"<insert_git_directory_path_here>\\waporact\\samples\\shapefile\\gezira_test_set.shp\",\r\n",
    "    input_rasters=[retrieved_AETI_rasters['AETI']['raster_list'][0]],\r\n",
    "    output_csv_path=field_csv,\r\n",
    "    field_stats=['min', 'max', 'mean', 'sum', 'stddev'],\r\n",
    "    statistic_name='aeti',\r\n",
    "    id_key='wpid',\r\n",
    "    out_dict=False\r\n",
    ")\r\n",
    "\r\n",
    "print(field_stats)\r\n"
   ],
   "outputs": [],
   "metadata": {}
  },
  {
   "cell_type": "markdown",
   "source": [
    "***\n",
    "### 3.4 Visualize the data using a bargraph\n",
    "\n",
    "Use the function *bargraph* to plot and visualize the csv outputted above ( using the dataframe is also possible). <br><br>\n",
    "\n",
    "The minimum needed inputs to run the function is an input table provided either as a dataframe or as the path to a csv/excel, the name of the column containing x values and the name of the column to create they y axis and the title of the plot.\n",
    "\n",
    "#### Required Inputs:<br>\n",
    "\n",
    "- **input_table**: dataframe or path to the file to create graph from<br><br> \n",
    "\n",
    "- **x**: column holding the x values<br><br>  \n",
    "\n",
    "- **y**: column holding the y values<br><br>\n",
    "\n",
    "- **title**: title of the plot<br>  \n",
    "\n",
    "\n",
    "Optional inputs are also available, we will be providing an output path for the html and png. These are only made if paths are provided. For info on all the optional inputs please see the link below:\n",
    "\n",
    "#### Optional Inputs:<br>\n",
    "\n",
    "- **output_png_path**: if provided outputs the generated file to static png<br><br>\n",
    "\n",
    "- **output_html_path**: if provided outputs the generated file to interactive html<br>\n",
    "\n",
    "\n",
    "#### Outputs: <br>\n",
    "\n",
    "the function returns nothing directly outputting the made plot to the specified locations. However if show figure is true it also shows the plot made on completion.\n",
    "\n",
    "for more details see: [plots wiki](https://github.com/eLEAF-Github/WAPORACT/wiki/2.-The-WaPORAct-Package-3.-Function-and-Class-Descriptions-7.-plots)"
   ],
   "metadata": {}
  },
  {
   "cell_type": "code",
   "execution_count": null,
   "source": [
    "# create bargraph output path\r\n",
    "aeti_bar_png = '<insert_directory_path_here>\\\\\\\\waporact_test\\\\\\\\L3\\\\\\\\05_results\\\\\\\\L3_AETI_20200101_20200111_bar.png'\r\n",
    "aeti_bar_html = '<insert_directory_path_here>\\\\\\\\waporact_test\\\\\\\\L3\\\\\\\\05_results\\\\\\\\L3_AETI_20200101_20200111_bar.html'\r\n",
    "\r\n",
    "plots.bargraph(\r\n",
    "    input_table=field_stats,\r\n",
    "    x='wpid',\r\n",
    "    y='max_aeti',\r\n",
    "    title='per field AETI Gezira area',\r\n",
    "    output_html_path=aeti_bar_html,\r\n",
    "    output_png_path=aeti_bar_png,\r\n",
    "    show_figure=True)\r\n"
   ],
   "outputs": [],
   "metadata": {}
  },
  {
   "cell_type": "markdown",
   "source": [
    "***\n",
    "### 3.4 Visualize the data using an interactive chloropleth map\n",
    "\n",
    "\n",
    "Use the function *interactive_choropleth_map* to plot and visualize the csv/dataframe outputted above with a shapefile as a map. <br><br>\n",
    "\n",
    "The minimum needed inputs to run the function is an input shapefile and an input csv to match that contains the data as well as the z_column and label for the z column.\n",
    "\n",
    "#### Required Inputs:<br>\n",
    "\n",
    "- **input_shapefile_path**:  path to the input shape<<br><br> \n",
    "\n",
    "- **input_table**: path to the input csv or a dataframe<<br><br> \n",
    "\n",
    "- **z_column**: name of the column in the csv to use for the z value<br><br>  \n",
    "\n",
    "- **z_label**: label for the z value column<br><br>\n",
    "\n",
    "Optional inputs are also available, we will be providing an output path for the html. These are only made if paths are provided. For info on all the optional inputs please see the link below:\n",
    "\n",
    "#### Optional Inputs:<br>\n",
    "\n",
    "- **output_html_path**: if provided outputs the generated file to interactive html<br>\n",
    "\n",
    "WARNING: union_key is assumed to be **wpid** this means it is assumed that there is a wpid column in both the shapefile and the csv that can be used to link fields to data  \n",
    "\n",
    "#### Outputs: <br>\n",
    "\n",
    "the function returns nothing directly outputting the made map to the specified locations. However if show figure is true it also shows the map made on completion.\n",
    "\n",
    "for more details see: [plots wiki](https://github.com/eLEAF-Github/WAPORACT/wiki/2.-The-WaPORAct-Package-3.-Function-and-Class-Descriptions-7.-plots)"
   ],
   "metadata": {}
  },
  {
   "cell_type": "code",
   "execution_count": null,
   "source": [
    "# create html output path\r\n",
    "aeti_map_html = '<insert_directory_path_here>\\\\\\\\waporact_test\\\\\\\\L3\\\\\\\\05_results\\\\\\\\L3_AETI_20200101_20200111_map.html'\r\n",
    "\r\n",
    "plots.interactive_choropleth_map(\r\n",
    "    input_shapefile_path=r\"<insert_git_directory_path_here>\\waporact\\samples\\shapefile\\gezira_test_set.shp\",\r\n",
    "    input_table=field_stats,\r\n",
    "    z_column='max_aeti',\r\n",
    "    z_label='max_L3_AETI',\r\n",
    "    output_html_path=aeti_map_html)"
   ],
   "outputs": [],
   "metadata": {}
  },
  {
   "cell_type": "markdown",
   "source": [
    "***\n",
    "## 4. Output to shapefile\n",
    "\n",
    "As a last step we can output the calculated field statistics too shapefile so that it can be visualised in QGIS or ArcGIS as the user wants.<br>\n",
    "\n",
    "**Required Inputs**:<br>\n",
    "\n",
    "- **records**: the dictionary or dataframe contain the records/info that is to be outputted to shapefile.<br><br>\n",
    "\n",
    "- **output_shapefile_path**: path to output the created shapefile too<br><br>\n",
    "\n",
    "- **fields_shapefile_path**: path to the shapefile holding the reference fields/geometries to which the data should be attached to. For example the input shapefiel used to generate the data, or the reference shapefile generated by the crop maks function of wapor analysis.<br><br> \n",
    "\n",
    "- **union_key**: identifies the column in the *fields_shapefile_path*  and in the records used to combine the too. if workign with a shapefiel generated by the crop maks script 'wpid' is suggested. otherwise another column/key can also be used.<br>\n",
    "\n",
    "**Optional Inputs**:<br>\n",
    "\n",
    "- **output_crs**: if provided warps the shapefile to match this crs<br><br>\n",
    "\n",
    "WARNING: long column names (like those currently autogenerated in the creation of pai csvs/excels will be truncated, use the csv to match which column is which or edit the csv to have shorter column names)\n",
    "\n",
    "For more details see: [vector wiki](https://github.com/eLEAF-Github/WAPORACT/wiki/2.-The-WaPORAct-Package-3.-Function-and-Class-Descriptions-5.-vector)\n"
   ],
   "metadata": {}
  },
  {
   "cell_type": "code",
   "execution_count": null,
   "source": [
    "# path to output shapefile too\r\n",
    "aeti_shape_path = r'<insert_directory_path_here>\\\\\\\\waporact_test\\\\\\\\L3\\\\\\\\05_results\\\\\\\\L3_AETI_20200101_20200111.shp'\r\n",
    "\r\n",
    "# template shapefile to use\r\n",
    "fields_shape_path = r\"<insert_git_directory_path_here>\\waporact\\samples\\shapefile\\gezira_test_set.shp\"\r\n",
    "  \r\n",
    "vector.records_to_shapefile(\r\n",
    "    records=field_stats,\r\n",
    "    output_shapefile_path=aeti_shape_path,\r\n",
    "    fields_shapefile_path=fields_shape_path,\r\n",
    "    union_key=\"wpid\")"
   ],
   "outputs": [],
   "metadata": {}
  },
  {
   "cell_type": "markdown",
   "source": [
    "***\n",
    "## 5. Examine the data\n",
    "\n",
    "Beyond the visualisation methods provided above feel free to check out the data using a program such as Excel, Qgis, ArcGIS or however you want. We highly recommend it that way you gain a further understanding of what you have produced.\n",
    "\n",
    "***\n",
    "## 6. Rinse and Repeat  \n",
    "\n",
    "Now that you know how to retrieve data and analyse data feel free to repeat the notebooks *01A_downloading_from_wapor* and *01B_basic_statistical_analysis* and play around with the parameters. If you feel like it you can even get into the code itself and see what you can code, run, retrieve and analyse! "
   ],
   "metadata": {}
  },
  {
   "cell_type": "markdown",
   "source": [
    "***\n",
    "## The next step: Yield Calculation In Steps \n",
    "\n",
    "f you feel like it you can also take a look at notebook *01C_step_by_step_yield_calculation.ipynb* where we walk you through the process of producing yield step by step from a coding perspective for an area from download to analysis."
   ],
   "metadata": {}
  }
 ],
 "metadata": {
  "interpreter": {
   "hash": "d159fc90758eac0f5c73d99caedb3f91684c9817826a725cd80fdc2fd6e95e43"
  },
  "kernelspec": {
   "display_name": "Python 3 (ipykernel)",
   "language": "python",
   "name": "python3"
  },
  "language_info": {
   "codemirror_mode": {
    "name": "ipython",
    "version": 3
   },
   "file_extension": ".py",
   "mimetype": "text/x-python",
   "name": "python",
   "nbconvert_exporter": "python",
   "pygments_lexer": "ipython3",
   "version": "3.9.12"
  }
 },
 "nbformat": 4,
 "nbformat_minor": 2
}